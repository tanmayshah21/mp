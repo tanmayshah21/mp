{
  "cells": [
    {
      "cell_type": "markdown",
      "metadata": {
        "id": "view-in-github",
        "colab_type": "text"
      },
      "source": [
        "<a href=\"https://colab.research.google.com/github/tanmayshah21/mp/blob/main/welcome/running_python.ipynb\" target=\"_parent\"><img src=\"https://colab.research.google.com/assets/colab-badge.svg\" alt=\"Open In Colab\"/></a>"
      ]
    },
    {
      "cell_type": "markdown",
      "metadata": {
        "id": "20-ocPkSHm-0"
      },
      "source": [
        "\n",
        "<center>\n",
        "<table>\n",
        "  <tr>\n",
        "    <td><img src=\"http://www.nasa.gov/sites/all/themes/custom/nasatwo/images/nasa-logo.svg\" width=\"100\"/> </td>\n",
        "     <td><img src=\"https://github.com/astg606/py_materials/blob/master/logos/ASTG_logo.png?raw=true\" width=\"80\"/> </td>\n",
        "     <td> <img src=\"https://www.nccs.nasa.gov/sites/default/files/NCCS_Logo_0.png\" width=\"130\"/> </td>\n",
        "    </tr>\n",
        "</table>\n",
        "</center>\n",
        "\n",
        "        \n",
        "<center>\n",
        "<h1><font color= \"blue\" size=\"+3\">ASTG Python Courses</font></h1>\n",
        "</center>\n",
        "\n",
        "\n",
        "---\n",
        "\n",
        "<center><h1>\n",
        "    <font color=\"red\" size=\"+2\">Running Python</font>  \n",
        "</h1></center>"
      ]
    },
    {
      "cell_type": "markdown",
      "metadata": {
        "id": "mX19ACXjHm-6"
      },
      "source": [
        "# <font color='blue'>Why Learn Python?</font>\n",
        "\n",
        "---\n",
        "\n",
        "* Is a free and open-source.\n",
        "* Is a high-level and interpreted general purpose programming language.\n",
        "* Its simple syntax makes it suitable for learning programming as a first language.\n",
        "* Has a very extensive standard library and over 150,000 external libraries.\n",
        "* Is portable and extensible. It interoprate with other languages such as Fortran, C, C++, Java,...\n",
        "* Has a large community.\n",
        "\n",
        "**Benefits of Learning Python**\n",
        "\n",
        "![fig_python](https://static.javatpoint.com/interview/images/advantages-of-python.png)\n",
        "Image Source: www.javatpoint.com\n",
        "\n",
        "Python finds applications in areas such as:\n",
        "\n",
        "+ Web Programming\n",
        "+ Data Science\n",
        "+ Machine Learning and Artificial Intelligence\n",
        "+ Scripting & Automation\n",
        "+ Games\n",
        "+ Desktop GUI applications\n",
        "+ Database access\n",
        "          \n",
        "![fig_python](https://hackernoon.com/hn-images/1*jVKTE1dd8CVv4WEtcidCPA.png)"
      ]
    },
    {
      "cell_type": "markdown",
      "metadata": {
        "id": "C0GY8KUBHm-6"
      },
      "source": [
        "# <font color='blue'> Python Versions</font>\n",
        "\n",
        "----\n",
        "\n",
        "Python has two major versions:\n",
        "\n",
        "+ **2.x**: Released in 2000. The latest version is 2.7 released in 2010. It is not recommended for use in new projects.\n",
        "+ **3.x**: Released in 2008 to fix problems that exist in Python 2.x. \n",
        "   - The nature of these changes is such that Python 3 was incompatible with Python 2. It is backward incompatible.\n",
        "   - Python 3 isn’t compatible with Python 2. \n",
        "   - You should use the latest versions of Python 3 for your new projects.\n",
        "\n",
        "**For this class, we will use Python 3.x.**"
      ]
    },
    {
      "cell_type": "markdown",
      "metadata": {
        "id": "egwJOo_aHm-7"
      },
      "source": [
        "# <font color='blue'>Four Ways to Run Python</font>\n",
        "\n",
        "---\n",
        "\n",
        "* Interactive Command Line through `python`\n",
        "* Interactive Command Line through `ipython`\n",
        "* Scripting\n",
        "* Jupyter Notebook\n"
      ]
    },
    {
      "cell_type": "markdown",
      "metadata": {
        "id": "QnchGYXxHm-8"
      },
      "source": [
        "You first need to make sure that Python is install on your system. \n",
        "With Linux/Unix systems, a default Python interpreter comes with the operating system. To test this, from the terminal type:\n",
        "\n",
        "`which python`\n",
        "\n",
        "and you will see something like:\n",
        "\n",
        "`/usr/bin/python`\n"
      ]
    },
    {
      "cell_type": "markdown",
      "metadata": {
        "id": "yh0uKiuLHm-9"
      },
      "source": [
        "### <font color='red'> Interactive Command Line through `python` </font>\n",
        "\n",
        "---\n",
        "\n",
        "* You can use the interpreter in the interactive mode to test some commands.\n",
        "* You need to type `python` from the command line.\n",
        "* You can directly type in Python code, and press `Enter` to get the output.\n",
        "* You can exit the interactive mode with `quit()` or `exit` command or `^Ctrl + D`.\n",
        "* The sequence you enter will not be saved if you close the current session."
      ]
    },
    {
      "cell_type": "markdown",
      "metadata": {
        "id": "hYZbvPiGHm--"
      },
      "source": [
        "**Sample Session**\n",
        "\n",
        "1. Open your terminal/Anaconda prompt and type:\n",
        "\n",
        "`python`\n",
        "\n",
        "\n",
        "2. From this interactive shell, you will notice that the prompt is `>>>`. This is now allowing us to type Python code directly and execute it.\n",
        "\n",
        "3. Now type:\n",
        "\n",
        "`print('Hello world!')`\n",
        "\n",
        "4. You should see the output on the screen. \n",
        "\n",
        "5. To exit the Python shell type `exit()` and press `Return` key.\n",
        "\n"
      ]
    },
    {
      "cell_type": "markdown",
      "metadata": {
        "id": "T0fqVeGdHm-_"
      },
      "source": [
        "### <font color='red'>Interactive Command Line through `ipython` </font>\n",
        "\n",
        "---\n",
        "* IPython is an interactive shell for the Python programming language that offers enhanced introspection, additional shell syntax, tab completion and rich history.\n",
        "* It does not come by default with Python.\n",
        "* IPython gives you all that you get in the basic interpreter but with a lot extra (line numbers, advanced editing, more functions, help functions etc).\n",
        "* It can be started by typing `ipython` at the command line.\n",
        "* The main aesthetic difference between the Python interpreter and the enhanced IPython interpreter lies in the command prompt: Python uses `>>>` by default, while IPython uses numbered commands (e.g. `In [1]:`). "
      ]
    },
    {
      "cell_type": "markdown",
      "metadata": {
        "id": "ecDO90RkHm_A"
      },
      "source": [
        "**Sample Session**\n",
        "\n",
        "1. Open your terminal/Anaconda prompt and type:\n",
        "\n",
        "`ipython`\n",
        "\n",
        "2. This is an enhanced interactive shell that has many features (tab-completion, woot!). It also has a prompt that is numbered.\n",
        "\n",
        "3. Now type:\n",
        "\n",
        "`print('Hello world!')`\n",
        "\n",
        "4. You should see the output on the screen.\n",
        "\n",
        "5. To exit the Python shell type `exit()` and press `Return` key."
      ]
    },
    {
      "cell_type": "markdown",
      "metadata": {
        "id": "Pq28EIMgHm_B"
      },
      "source": [
        "### <font color='red'> Scripting </font>\n",
        "\n",
        "---\n",
        "* Real Python programs are made as scripts and look like simple text files. \n",
        "* These files are given extensions `.py`.\n",
        "* You can create text files using whatever text editor you like.\n",
        "* To run the script you need to use the programming language interpreter and specify the name of the created file as an additional parameter:\n",
        "\n",
        "```\n",
        "       %python my_python_file.py\n",
        "```"
      ]
    },
    {
      "cell_type": "markdown",
      "metadata": {
        "id": "yZjZHm-BHm_C"
      },
      "source": [
        "**Sample Session**\n",
        "\n",
        "1. Start a new ASCII/text document named `helloworld.py` and enter the following text:\n",
        "\n",
        "`print('Hello world!')`\n",
        " \n",
        "2. Save the document and then in your terminal/Anaconda prompt, go to the directory containing the newlt created file.\n",
        "\n",
        "\n",
        "3. From the terminal/Anaconda prompt, type:\n",
        "\n",
        "`python helloworld.py`\n",
        "\n",
        "4. You should see the output on the screen."
      ]
    },
    {
      "cell_type": "markdown",
      "metadata": {
        "id": "7dkt8Of5Hm_C"
      },
      "source": [
        "### <font color='red'> Jupyter Notebook </font>\n",
        "\n",
        "---\n",
        "* A useful hybrid of the interactive terminal and the self-contained script is the Jupyter notebook, a document format that allows executable code, formatted text, graphics, and even interactive features to be combined into a single document. \n",
        "* Though the notebook began as a Python-only format, it has since been made compatible with a large number of programming languages. \n",
        "* The notebook is useful both as a development environment, and as a means of sharing work via rich computational and data-driven narratives that mix together code, figures, data, and text.\n"
      ]
    },
    {
      "cell_type": "markdown",
      "metadata": {
        "id": "0M4ZwpBHHm_D"
      },
      "source": [
        "**Sample Session**\n",
        "\n",
        "1. Open your terminal/Anaconda Prompt and type:\n",
        "\n",
        "`jupyter notebook`\n",
        " \n",
        "2. This directs you to a web browser and you can navigate to an already existing notebook or create one (right side menu New -> Python 3).\n",
        "\n",
        "3. This will open up a new Untitled notebook where you can directly input Python code, Markup formatted text, or have raw text.\n",
        "\n",
        "4. Now type:\n",
        "\n",
        "`print('Hello world!')`\n",
        "\n",
        "5. Press `Shift+Enter`, `Cntrl+Enter` or click `Cells -> Run Cells` or use the `Play` button near the top of the page.\n",
        "\n",
        "6. You should see the output on the screen. \n",
        "\n",
        "7. Exit via closing the browser windows and stopping the server running in the terminal/command prompt (most likely with a Cntrl+C)."
      ]
    },
    {
      "cell_type": "markdown",
      "metadata": {
        "id": "uScD38-GHm_D"
      },
      "source": [
        "## <font color='red'>Other Ways</font>\n",
        "\n",
        "* [10 Best Python IDE & Code Editors](https://hackr.io/blog/best-python-ide)\n",
        "* [Python IDEs and Code Editors (Guide)](https://realpython.com/python-ides-code-editors-guide/)\n",
        "* [Google Colaboratory](http://colab.research.google.com)\n",
        "* [Binder](http://mybinder.org)\n",
        "* [Microsoft Azure](http://notebooks.azure.com)"
      ]
    },
    {
      "cell_type": "markdown",
      "metadata": {
        "id": "HOpJbNdCHm_E"
      },
      "source": [
        "# <font color='blue'>References</font>\n",
        "\n",
        "* [How to Run Python Code](https://jakevdp.github.io/WhirlwindTourOfPython/01-how-to-run-python-code.html)\n",
        "* [How To Run Your Python Scripts](https://www.knowledgehut.com/blog/programming/run-python-scripts)\n",
        "* [Getting Started with Python in Visual Studio Code](https://code.visualstudio.com/docs/python/python-tutorial)\n",
        "* [How to Run a Python Script on Mac](https://www.maketecheasier.com/run-python-script-in-mac/)\n",
        "* [Running Python Scripts from anywhere under Windows](https://correlated.kayako.com/article/40-running-python-scripts-from-anywhere-under-windows)"
      ]
    },
    {
      "cell_type": "code",
      "source": [
        "import pandas\n",
        "\n",
        "df = pandas.read_csv(\"/content/DTdata.csv\")\n",
        "\n",
        "d = {'normal': 0, 'high': 1}\n",
        "df['Humidity'] = df['Humidity'].map(d)\n",
        "\n",
        "d = {'cool': 0, 'mild': 1,'hot': 2}\n",
        "df['Temperature'] = df['Temperature'].map(d)\n",
        "\n",
        "d = {'rainy': 2, 'overcast': 1,'sunny': 0}\n",
        "df['Outlook'] = df['Outlook'].map(d)\n",
        "\n",
        "d = {'yes': 0, 'no': 1}\n",
        "df['Play'] = df['Play'].map(d)\n",
        "\n",
        "print(df)"
      ],
      "metadata": {
        "colab": {
          "base_uri": "https://localhost:8080/"
        },
        "id": "mcWceIaiHoqi",
        "outputId": "97850869-bf5a-4779-cc90-0b19539230bc"
      },
      "execution_count": 2,
      "outputs": [
        {
          "output_type": "stream",
          "name": "stdout",
          "text": [
            "   Play  Outlook  Temperature  Humidity   Wind\n",
            "0     0        2            0         0  False\n",
            "1     1        2            0         0   True\n",
            "2     0        1            2         1  False\n",
            "3     1        0            1         1  False\n",
            "4     0        2            0         0  False\n",
            "5     0        0            0         0  False\n",
            "6     0        2            0         0  False\n",
            "7     0        0            2         0  False\n",
            "8     0        1            1         1   True\n",
            "9     1        0            1         1   True\n"
          ]
        }
      ]
    },
    {
      "cell_type": "code",
      "source": [
        "features = ['Outlook', 'Temperature', 'Humidity','Wind']\n",
        "\n",
        "X = df[features]\n",
        "y = df['Play']\n",
        "\n",
        "print(X)\n",
        "print(y)"
      ],
      "metadata": {
        "colab": {
          "base_uri": "https://localhost:8080/"
        },
        "id": "Miqy6nyUH1eX",
        "outputId": "eef972da-9f38-4d4a-df85-b1d48025bba0"
      },
      "execution_count": 3,
      "outputs": [
        {
          "output_type": "stream",
          "name": "stdout",
          "text": [
            "   Outlook  Temperature  Humidity   Wind\n",
            "0        2            0         0  False\n",
            "1        2            0         0   True\n",
            "2        1            2         1  False\n",
            "3        0            1         1  False\n",
            "4        2            0         0  False\n",
            "5        0            0         0  False\n",
            "6        2            0         0  False\n",
            "7        0            2         0  False\n",
            "8        1            1         1   True\n",
            "9        0            1         1   True\n",
            "0    0\n",
            "1    1\n",
            "2    0\n",
            "3    1\n",
            "4    0\n",
            "5    0\n",
            "6    0\n",
            "7    0\n",
            "8    0\n",
            "9    1\n",
            "Name: Play, dtype: int64\n"
          ]
        }
      ]
    },
    {
      "cell_type": "code",
      "source": [
        "import pandas\n",
        "from sklearn import tree\n",
        "from sklearn.tree import DecisionTreeClassifier\n",
        "import matplotlib.pyplot as plt\n",
        "\n",
        "dtree = DecisionTreeClassifier()\n",
        "dtree1 = dtree.fit(X, y)"
      ],
      "metadata": {
        "id": "MbgzQ3bWH9b_"
      },
      "execution_count": 4,
      "outputs": []
    },
    {
      "cell_type": "code",
      "source": [
        "# !pip install tree"
      ],
      "metadata": {
        "id": "rs88BhtEJAMA"
      },
      "execution_count": 5,
      "outputs": []
    },
    {
      "cell_type": "code",
      "source": [
        "tree.plot_tree(dtree.fit(X,y), feature_names=features)"
      ],
      "metadata": {
        "colab": {
          "base_uri": "https://localhost:8080/",
          "height": 439
        },
        "id": "dLLoX1nTIrOk",
        "outputId": "2bb3d772-4a66-4536-8866-bd0a0c5b3322"
      },
      "execution_count": 6,
      "outputs": [
        {
          "output_type": "execute_result",
          "data": {
            "text/plain": [
              "[Text(0.4444444444444444, 0.875, 'Wind <= 0.5\\ngini = 0.42\\nsamples = 10\\nvalue = [7, 3]'),\n",
              " Text(0.2222222222222222, 0.625, 'Humidity <= 0.5\\ngini = 0.245\\nsamples = 7\\nvalue = [6, 1]'),\n",
              " Text(0.1111111111111111, 0.375, 'gini = 0.0\\nsamples = 5\\nvalue = [5, 0]'),\n",
              " Text(0.3333333333333333, 0.375, 'Outlook <= 0.5\\ngini = 0.5\\nsamples = 2\\nvalue = [1, 1]'),\n",
              " Text(0.2222222222222222, 0.125, 'gini = 0.0\\nsamples = 1\\nvalue = [0, 1]'),\n",
              " Text(0.4444444444444444, 0.125, 'gini = 0.0\\nsamples = 1\\nvalue = [1, 0]'),\n",
              " Text(0.6666666666666666, 0.625, 'Humidity <= 0.5\\ngini = 0.444\\nsamples = 3\\nvalue = [1, 2]'),\n",
              " Text(0.5555555555555556, 0.375, 'gini = 0.0\\nsamples = 1\\nvalue = [0, 1]'),\n",
              " Text(0.7777777777777778, 0.375, 'Outlook <= 0.5\\ngini = 0.5\\nsamples = 2\\nvalue = [1, 1]'),\n",
              " Text(0.6666666666666666, 0.125, 'gini = 0.0\\nsamples = 1\\nvalue = [0, 1]'),\n",
              " Text(0.8888888888888888, 0.125, 'gini = 0.0\\nsamples = 1\\nvalue = [1, 0]')]"
            ]
          },
          "metadata": {},
          "execution_count": 6
        },
        {
          "output_type": "display_data",
          "data": {
            "text/plain": [
              "<Figure size 432x288 with 1 Axes>"
            ],
            "image/png": "[encoded data removed]"
          },
          "metadata": {
            "needs_background": "light"
          }
        }
      ]
    }
  ],
  "metadata": {
    "celltoolbar": "Slideshow",
    "kernelspec": {
      "display_name": "Python 3 (ipykernel)",
      "language": "python",
      "name": "python3"
    },
    "language_info": {
      "codemirror_mode": {
        "name": "ipython",
        "version": 3
      },
      "file_extension": ".py",
      "mimetype": "text/x-python",
      "name": "python",
      "nbconvert_exporter": "python",
      "pygments_lexer": "ipython3",
      "version": "3.8.2"
    },
    "colab": {
      "provenance": [],
      "include_colab_link": true
    },
    "accelerator": "GPU"
  },
  "nbformat": 4,
  "nbformat_minor": 0
}